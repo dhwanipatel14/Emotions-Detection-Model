{
  "cells": [
    {
      "cell_type": "markdown",
      "metadata": {
        "id": "view-in-github",
        "colab_type": "text"
      },
      "source": [
        "<a href=\"https://colab.research.google.com/github/dhwanipatel14/Emotions-Detection-Model/blob/master/Eye_tracking.ipynb\" target=\"_parent\"><img src=\"https://colab.research.google.com/assets/colab-badge.svg\" alt=\"Open In Colab\"/></a>"
      ]
    },
    {
      "cell_type": "code",
      "execution_count": null,
      "metadata": {
        "id": "kGEC6s9aPFIX"
      },
      "outputs": [],
      "source": [
        "import cv2\n",
        "import numpy as np\n",
        "import matplotlib.pyplot as plt\n"
      ]
    },
    {
      "cell_type": "code",
      "execution_count": null,
      "metadata": {
        "colab": {
          "base_uri": "https://localhost:8080/",
          "height": 406
        },
        "id": "8osuIYz3PhTv",
        "outputId": "af39000c-9331-493b-f1c7-cc299748b104"
      },
      "outputs": [
        {
          "data": {
            "image/png": "[encoded data removed]",
            "text/plain": [
              "<Figure size 640x480 with 1 Axes>"
            ]
          },
          "metadata": {},
          "output_type": "display_data"
        }
      ],
      "source": [
        "# Create a synthetic dataset with a face and eyes\n",
        "def create_synthetic_dataset():\n",
        "    img_size = 200\n",
        "    dataset = []\n",
        "\n",
        "    for _ in range(100):\n",
        "        img = np.ones((img_size, img_size, 3), dtype=np.uint8) * 255\n",
        "\n",
        "        # Draw a face\n",
        "        cv2.circle(img, (img_size // 2, img_size // 2), 80, (0, 0, 0), -1)\n",
        "\n",
        "        # Draw left eye\n",
        "        cv2.circle(img, (img_size // 2 - 30, img_size // 2 - 20), 10, (0, 0, 255), -1)\n",
        "\n",
        "        # Draw right eye\n",
        "        cv2.circle(img, (img_size // 2 + 30, img_size // 2 - 20), 10, (0, 0, 255), -1)\n",
        "\n",
        "        dataset.append(img)\n",
        "\n",
        "    return dataset\n",
        "\n",
        "# Display a sample image from the dataset\n",
        "sample_image = create_synthetic_dataset()[0]\n",
        "plt.imshow(cv2.cvtColor(sample_image, cv2.COLOR_BGR2RGB))\n",
        "plt.axis('off')\n",
        "plt.show()"
      ]
    },
    {
      "cell_type": "code",
      "execution_count": 2,
      "metadata": {
        "colab": {
          "base_uri": "https://localhost:8080/"
        },
        "id": "L1YI28G8gzUN",
        "outputId": "15e50456-085d-4226-f847-469c440c4eb4"
      },
      "outputs": [
        {
          "output_type": "stream",
          "name": "stdout",
          "text": [
            "Requirement already satisfied: dlib in /usr/local/lib/python3.10/dist-packages (19.24.2)\n",
            "\u001b[31mERROR: Operation cancelled by user\u001b[0m\u001b[31m\n",
            "\u001b[0m--2023-12-03 19:04:13--  http://dlib.net/files/shape_predictor_68_face_landmarks.dat.bz2\n",
            "Resolving dlib.net (dlib.net)... 107.180.26.78\n",
            "Connecting to dlib.net (dlib.net)|107.180.26.78|:80... connected.\n",
            "HTTP request sent, awaiting response... 200 OK\n",
            "Length: 64040097 (61M)\n",
            "Saving to: ‘shape_predictor_68_face_landmarks.dat.bz2’\n",
            "\n",
            "shape_predictor_68_ 100%[===================>]  61.07M  81.2MB/s    in 0.8s    \n",
            "\n",
            "2023-12-03 19:04:14 (81.2 MB/s) - ‘shape_predictor_68_face_landmarks.dat.bz2’ saved [64040097/64040097]\n",
            "\n",
            "bzip2: Output file shape_predictor_68_face_landmarks.dat already exists.\n"
          ]
        }
      ],
      "source": [
        "from google.colab.patches import cv2_imshow\n",
        "import cv2\n",
        "import dlib\n",
        "import numpy as np\n",
        "from datetime import datetime, timedelta\n",
        "\n",
        "# Install required packages\n",
        "!pip install dlib\n",
        "\n",
        "# Load the shape predictor model\n",
        "!wget \"http://dlib.net/files/shape_predictor_68_face_landmarks.dat.bz2\"\n",
        "!bzip2 -d shape_predictor_68_face_landmarks.dat.bz2\n",
        "\n",
        "# Function to detect eyes in a frame\n",
        "def detect_eyes(frame):\n",
        "    gray = cv2.cvtColor(frame, cv2.COLOR_BGR2GRAY)\n",
        "    faces = detector(gray)\n",
        "\n",
        "    if faces:\n",
        "        shape = predictor(gray, faces[0])\n",
        "        left_eye = shape.parts()[36:42]\n",
        "        right_eye = shape.parts()[42:48]\n",
        "        return left_eye, right_eye\n",
        "    else:\n",
        "        return None, None\n",
        "\n",
        "# Function to calculate Eye Aspect Ratio (EAR)\n",
        "def calculate_ear(eye):\n",
        "    eye = np.array([(point.x, point.y) for point in eye])\n",
        "    A = np.linalg.norm(eye[1] - eye[5])\n",
        "    B = np.linalg.norm(eye[2] - eye[4])\n",
        "    C = np.linalg.norm(eye[0] - eye[3])\n",
        "    ear = (A + B) / (2.0 * C)\n",
        "    return ear\n",
        "\n",
        "# Initialize video capture (replace with your video file path)\n",
        "video_path = \"/content/WIN_20231130_17_43_08_Pro.mp4\"  # Replace with your video file path\n",
        "cap = cv2.VideoCapture(video_path)\n",
        "\n",
        "# Get video properties for the output video\n",
        "fps = int(cap.get(cv2.CAP_PROP_FPS))\n",
        "width = int(cap.get(cv2.CAP_PROP_FRAME_WIDTH))\n",
        "height = int(cap.get(cv2.CAP_PROP_FRAME_HEIGHT))\n",
        "\n",
        "# Initialize video writer for the output video\n",
        "fourcc = cv2.VideoWriter_fourcc(*'XVID')\n",
        "output_video = cv2.VideoWriter('/content/output_video.avi', fourcc, fps, (width, height))\n",
        "\n",
        "# Initialize dlib face detector\n",
        "detector = dlib.get_frontal_face_detector()\n",
        "\n",
        "while True:\n",
        "    ret, frame = cap.read()\n",
        "\n",
        "    if not ret:\n",
        "        break\n",
        "\n",
        "    left_eye, right_eye = detect_eyes(frame)\n",
        "\n",
        "    if left_eye is not None and right_eye is not None:\n",
        "        ear_left = calculate_ear(left_eye)\n",
        "        ear_right = calculate_ear(right_eye)\n",
        "\n",
        "        # Calculate the average EAR for both eyes\n",
        "        avg_ear = (ear_left + ear_right) / 2.0\n",
        "\n",
        "        # Set a threshold for distraction detection (you may need to adjust this)\n",
        "        distraction_threshold = 0.2\n",
        "\n",
        "        # Check if the person is distracted\n",
        "        if avg_ear < distraction_threshold:\n",
        "            if distracted_start_time is None:\n",
        "                distracted_start_time = datetime.now()\n",
        "            distracted_duration = datetime.now() - distracted_start_time\n",
        "\n",
        "            if distracted_duration.total_seconds() >= distracted_duration_threshold and not distraction_recorded:\n",
        "                print(f\"The person was distracted for {distracted_duration_threshold} seconds.\")\n",
        "                distraction_recorded = True\n",
        "        else:\n",
        "            distracted_start_time = None\n",
        "            distraction_recorded = False\n",
        "\n",
        "        # Draw contours around eyes\n",
        "        for eye in [left_eye, right_eye]:\n",
        "            for point in eye:\n",
        "                x, y = point.x, point.y\n",
        "                cv2.circle(frame, (x, y), 3, (0, 255, 0), -1)\n",
        "\n",
        "        # Display directional information\n",
        "        cv2.putText(frame, \"Looking Straight\", (10, 30), cv2.FONT_HERSHEY_SIMPLEX, 0.8, (0, 255, 0), 2)\n",
        "\n",
        "    output_video.write(frame)  # Write the frame to the output video\n",
        "\n",
        "    cv2_imshow(frame)  # Use cv2_imshow instead of cv2.imshow\n",
        "\n",
        "    if cv2.waitKey(1) & 0xFF == ord('q'):\n",
        "        break\n",
        "\n",
        "# Release the video capture object, video writer, and close all windows\n",
        "cap.release()\n",
        "output_video.release()\n",
        "cv2.destroyAllWindows()\n"
      ]
    }
  ],
  "metadata": {
    "colab": {
      "provenance": [],
      "authorship_tag": "ABX9TyOjpTosTlYEqJsoryaMEUoo",
      "include_colab_link": true
    },
    "kernelspec": {
      "display_name": "Python 3",
      "name": "python3"
    },
    "language_info": {
      "name": "python"
    }
  },
  "nbformat": 4,
  "nbformat_minor": 0
}