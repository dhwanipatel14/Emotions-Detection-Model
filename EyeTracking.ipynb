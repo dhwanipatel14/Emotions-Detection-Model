{
  "cells": [
    {
      "cell_type": "markdown",
      "metadata": {
        "id": "view-in-github",
        "colab_type": "text"
      },
      "source": [
        "<a href=\"https://colab.research.google.com/github/dhwanipatel14/Emotions-Detection-Model/blob/master/EyeTracking.ipynb\" target=\"_parent\"><img src=\"https://colab.research.google.com/assets/colab-badge.svg\" alt=\"Open In Colab\"/></a>"
      ]
    },
    {
      "cell_type": "code",
      "execution_count": 2,
      "metadata": {
        "colab": {
          "base_uri": "https://localhost:8080/"
        },
        "id": "GLEomV52wkSl",
        "outputId": "86055bb3-dfb2-4796-aa40-90247b689bf5"
      },
      "outputs": [
        {
          "output_type": "stream",
          "name": "stdout",
          "text": [
            "--2023-12-05 00:38:37--  http://dlib.net/files/shape_predictor_68_face_landmarks.dat.bz2\n",
            "Resolving dlib.net (dlib.net)... 107.180.26.78\n",
            "Connecting to dlib.net (dlib.net)|107.180.26.78|:80... connected.\n",
            "HTTP request sent, awaiting response... 200 OK\n",
            "Length: 64040097 (61M)\n",
            "Saving to: ‘shape_predictor_68_face_landmarks.dat.bz2’\n",
            "\n",
            "shape_predictor_68_ 100%[===================>]  61.07M  17.0MB/s    in 3.8s    \n",
            "\n",
            "2023-12-05 00:38:41 (16.2 MB/s) - ‘shape_predictor_68_face_landmarks.dat.bz2’ saved [64040097/64040097]\n",
            "\n"
          ]
        }
      ],
      "source": [
        "from google.colab.patches import cv2_imshow\n",
        "import cv2\n",
        "import dlib\n",
        "import numpy as np\n",
        "\n",
        "# Download the shape predictor model\n",
        "!wget \"http://dlib.net/files/shape_predictor_68_face_landmarks.dat.bz2\"\n",
        "!bzip2 -d shape_predictor_68_face_landmarks.dat.bz2\n",
        "\n",
        "# Function to detect eyes in a frame\n",
        "def detect_eyes(frame):\n",
        "    gray = cv2.cvtColor(frame, cv2.COLOR_BGR2GRAY)\n",
        "    faces = detector(gray)\n",
        "\n",
        "    if faces:\n",
        "        shape = predictor(gray, faces[0])\n",
        "        left_eye = shape.parts()[36:42]\n",
        "        right_eye = shape.parts()[42:48]\n",
        "        return left_eye, right_eye\n",
        "    else:\n",
        "        return None, None\n",
        "\n",
        "# Function to calculate Eye Aspect Ratio (EAR)\n",
        "def calculate_ear(eye):\n",
        "    eye = np.array([(point.x, point.y) for point in eye])\n",
        "    A = np.linalg.norm(eye[1] - eye[5])\n",
        "    B = np.linalg.norm(eye[2] - eye[4])\n",
        "    C = np.linalg.norm(eye[0] - eye[3])\n",
        "    ear = (A + B) / (2.0 * C)\n",
        "    return ear\n",
        "\n",
        "# Load dlib face detector and facial landmarks predictor\n",
        "detector = dlib.get_frontal_face_detector()\n",
        "predictor = dlib.shape_predictor(\"/content/shape_predictor_68_face_landmarks.dat\")\n",
        "\n",
        "# Initialize video capture (replace with your video file path)\n",
        "video_path = \"/content/video.mp4\"  # Replace with your video file path\n",
        "cap = cv2.VideoCapture(video_path)\n",
        "\n",
        "# Get video properties for the output video\n",
        "fps = int(cap.get(cv2.CAP_PROP_FPS))\n",
        "width = int(cap.get(cv2.CAP_PROP_FRAME_WIDTH))\n",
        "height = int(cap.get(cv2.CAP_PROP_FRAME_HEIGHT))\n",
        "\n",
        "# Initialize video writer for the output video\n",
        "fourcc = cv2.VideoWriter_fourcc(*'XVID')\n",
        "output_video = cv2.VideoWriter('/content/output_video.avi', fourcc, fps, (width, height))\n",
        "\n",
        "while True:\n",
        "    ret, frame = cap.read()\n",
        "\n",
        "    if not ret:\n",
        "        break\n",
        "\n",
        "    left_eye, right_eye = detect_eyes(frame)\n",
        "\n",
        "    if left_eye is not None and right_eye is not None:\n",
        "        ear_left = calculate_ear(left_eye)\n",
        "        ear_right = calculate_ear(right_eye)\n",
        "\n",
        "        # Calculate the average EAR for both eyes\n",
        "        avg_ear = (ear_left + ear_right) / 2.0\n",
        "\n",
        "        # Set a threshold for distraction detection (you may need to adjust this)\n",
        "        distraction_threshold = 0.2\n",
        "\n",
        "        # Check if the person is distracted\n",
        "        if avg_ear < distraction_threshold:\n",
        "            cv2.putText(frame, \"Eyes Closed\", (10, 30), cv2.FONT_HERSHEY_SIMPLEX, 0.8, (0, 0, 255), 2)\n",
        "        else:\n",
        "            # Check gaze direction\n",
        "            horizontal_ratio = (left_eye[0].x + right_eye[3].x) / 2 / width\n",
        "            if horizontal_ratio < 0.4:\n",
        "                cv2.putText(frame, \"Looking Left\", (10, 30), cv2.FONT_HERSHEY_SIMPLEX, 0.8, (0, 255, 0), 2)\n",
        "            elif horizontal_ratio > 0.6:\n",
        "                cv2.putText(frame, \"Looking Right\", (10, 30), cv2.FONT_HERSHEY_SIMPLEX, 0.8, (0, 255, 0), 2)\n",
        "            else:\n",
        "                cv2.putText(frame, \"Looking Straight\", (10, 30), cv2.FONT_HERSHEY_SIMPLEX, 0.8, (0, 255, 0), 2)\n",
        "\n",
        "        # Draw contours around eyes\n",
        "        for eye in [left_eye, right_eye]:\n",
        "            for point in eye:\n",
        "                x, y = point.x, point.y\n",
        "                cv2.circle(frame, (x, y), 3, (0, 255, 0), -1)\n",
        "\n",
        "    output_video.write(frame)  # Write the frame to the output video\n",
        "\n",
        "    cv2_imshow(frame)  # Use cv2_imshow instead of cv2.imshow\n",
        "\n",
        "    if cv2.waitKey(1) & 0xFF == ord('q'):\n",
        "        break\n",
        "\n",
        "# Release the video capture object, video writer, and close all windows\n",
        "cap.release()\n",
        "output_video.release()\n",
        "cv2.destroyAllWindows()\n"
      ]
    },
    {
      "cell_type": "code",
      "execution_count": null,
      "metadata": {
        "id": "AtCr3oMWyvdj"
      },
      "outputs": [],
      "source": []
    }
  ],
  "metadata": {
    "colab": {
      "provenance": [],
      "authorship_tag": "ABX9TyN40uIMPa74fG443o1rSqL7",
      "include_colab_link": true
    },
    "kernelspec": {
      "display_name": "Python 3",
      "name": "python3"
    },
    "language_info": {
      "name": "python"
    }
  },
  "nbformat": 4,
  "nbformat_minor": 0
}